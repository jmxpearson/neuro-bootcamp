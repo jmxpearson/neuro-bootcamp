{
 "metadata": {
  "name": "",
  "signature": "sha256:95000388026fe55d02a4a382c4387496c540aa2ee3c3b20a37fe1546057cd6be"
 },
 "nbformat": 3,
 "nbformat_minor": 0,
 "worksheets": [
  {
   "cells": [
    {
     "cell_type": "heading",
     "level": 1,
     "metadata": {},
     "source": [
      "Let's save ourselves some trouble"
     ]
    },
    {
     "cell_type": "markdown",
     "metadata": {},
     "source": [
      "For most of us, using good coding practices seems hard to justify. It takes time to learn, time to implement, and hey, our code works just fine. I mean, we're scientists, right?\n",
      "\n",
      "But the __purpose of software engineering is to save us pain__. It's engineering because we are designing around our own worst tendencies to produce something &mdash; code &mdash; that's robust to the mistakes we are most likely to make.\n",
      "\n",
      "And yes, doing things this way is going to involve some up-front cost. To save you a world of heartache down the road. I've made all the mistakes, and today I use these techinques in my own work not because I'm a _better_ coder, but because I'm a _humbler_ one: without these habits, I've learned that I'll inevitably produce fragile, unreliable code. \n",
      "\n",
      "So let's get started."
     ]
    },
    {
     "cell_type": "heading",
     "level": 2,
     "metadata": {},
     "source": [
      "It's about data"
     ]
    },
    {
     "cell_type": "markdown",
     "metadata": {},
     "source": [
      "For scientists, most of our world revolves around data. How so? Let's look at the activities we tend to spend most of our time on:\n",
      "\n",
      "- On the basis of old data, we form a hypothesis\n",
      "- We plan an experiment\n",
      "    + what data to collect\n",
      "    + how much to collect\n",
      "    + power analysis (if you ever do this, seriously, I will buy you lunch)\n",
      "- We collect data\n",
      "    + interface with hardware\n",
      "    + write a program to present stimuli, interact with subjects\n",
      "- We store data\n",
      "    + flat files\n",
      "    + databases\n",
      "    + video, audio\n",
      "- We clean data\n",
      "    + said to be up to 80% of the real work for data scientists\n",
      "    + get rid of artifacts\n",
      "    + merging data from various instruments and channels\n",
      "    + aligning and denoising\n",
      "    + turning storage formats into variables that are easy to work with\n",
      "        * matrices\n",
      "        * data frames\n",
      "- We analyze data\n",
      "    + summary statistics\n",
      "    + hypothesis tests\n",
      "    + ANOVA/regression\n",
      "    + quick plots\n",
      "- We present data\n",
      "    + fine-tuning figures, statistical tests\n",
      "- We explain the data\n",
      "    + write the paper\n",
      "    + give the talk\n",
      "    + reproducible research tools"
     ]
    },
    {
     "cell_type": "heading",
     "level": 2,
     "metadata": {},
     "source": [
      "Scientific programming is special"
     ]
    },
    {
     "cell_type": "markdown",
     "metadata": {},
     "source": [
      "But look, we're scientists, not programmers. We don't quite have the same sets of goals. In particular\n",
      "\n",
      "- We don't know where we're going. \n",
      "    + This is research. We have to explore a lot of solutions, so no use designing a huge analysis system we'll never use.\n",
      "    + We do a lot of sloppy, ad hoc analysis\n",
      "- We are mostly focused on data, not interacting with users.\n",
      "- We mostly use pre-existing libraries, only occasionally rolling our own\n",
      "- We generate a lot of plots. Like, _a lot_.\n",
      "- Our \"product\" isn't code, it's knowledge."
     ]
    },
    {
     "cell_type": "heading",
     "level": 2,
     "metadata": {},
     "source": [
      "Scientific programming is not special"
     ]
    },
    {
     "cell_type": "markdown",
     "metadata": {},
     "source": [
      "- We need our code to be __correct__ and __robust__\n",
      "    + unreliable code means unreliable science\n",
      "- We are just as likely (more so?) than anyone else to write sloppy, hard-to-read, buggy code\n",
      "- Inevitably, someone else will want to use our code\n",
      "    + it should be easy to reproduce what we've published\n",
      "    + it should be easy to understand what it does\n",
      "    + it should be easy to modify\n",
      "- __We have to code defensively__"
     ]
    },
    {
     "cell_type": "heading",
     "level": 2,
     "metadata": {},
     "source": [
      "Why you will be glad you did"
     ]
    },
    {
     "cell_type": "markdown",
     "metadata": {},
     "source": [
      "- You will be able to add or remove a single data file/point and instantly re-run all your analyses.\n",
      "- You will know **exactly** how you normalized the data to produce Figure 2.\n",
      "- You will be able to **easily** change Figure 2 when Reviewer 3 complains.\n",
      "- You will be able to return to your code two years later and remember what you did.\n",
      "- Future rotating graduate students in the lab will not curse your name because they have to modify your code.\n",
      "- Coding for future projects will become easier over time, since you will be able to confidently reuse old code.\n",
      "- Good organization will allow you to think at a higher level, so that you spend less time wrestling with your data and more time analyzing."
     ]
    }
   ],
   "metadata": {}
  }
 ]
}