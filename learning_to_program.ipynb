{
 "metadata": {
  "name": "",
  "signature": "sha256:2ac7ba0521435b2bcaa4730f23aed6a586740cbcb31794bbea192278378603e1"
 },
 "nbformat": 3,
 "nbformat_minor": 0,
 "worksheets": [
  {
   "cells": [
    {
     "cell_type": "heading",
     "level": 1,
     "metadata": {},
     "source": [
      "Learning to Program"
     ]
    },
    {
     "cell_type": "markdown",
     "metadata": {},
     "source": [
      "Learning a computer language takes time. Learning how to learn a computer language generally takes much more. Just as with natural languages, the way it typically happens is that you struggle to learn the first new language, struggle a little less with the next, and then somewhere around the third new language, you begin to notice meta-patterns that save you lots of time. From then on, you have a schema for learning, and the features of an individual language become choices among available options, not one-off special cases.\n",
      "\n",
      "So it's worth our while to think a little about the _generic process_ of writing computer code before we get bogged down in the details of any specific language. The hope is that this information will give you a way to think about learning _any_ computer language, not just the one you end up choosing."
     ]
    },
    {
     "cell_type": "heading",
     "level": 2,
     "metadata": {},
     "source": [
      "How to write a computer program"
     ]
    },
    {
     "cell_type": "markdown",
     "metadata": {},
     "source": [
      "Let's think about what we need to understand to write a computer program, even a small one. For instance, we might want to know:\n",
      "\n",
      "- What are the inputs to the program?\n",
      "    + How do I load them (from a file or the internet)?\n",
      "    + How do I get them from a user?\n",
      "- What are the outputs of the program?\n",
      "    + New or modified files?\n",
      "    + Plots?\n",
      "    + Statistics?\n",
      "- What are the steps the program should take to solve the problem (its **algorithms**)?\n",
      "- What is the information on which the program operates (**data structures**)?\n",
      "- What problem-solving strategies will we use to combine algorithms and data structures (**design patterns**)?\n",
      "- Can I break this program into smaller sub-programs, each of which has a single, small job?\n",
      "- Are there established libraries of functions I can use?\n",
      "    + What inputs do those libraries require?\n",
      "    + What data structures do they offer/use?\n",
      "\n",
      "> The most important skill for programming is the ability to break a large problem into small sub-problems. When problems are small and manageable, it is easier to decide what strategies work best to solve them."
     ]
    },
    {
     "cell_type": "markdown",
     "metadata": {},
     "source": [
      "---"
     ]
    },
    {
     "cell_type": "heading",
     "level": 2,
     "metadata": {},
     "source": [
      "Exercise"
     ]
    },
    {
     "cell_type": "markdown",
     "metadata": {},
     "source": [
      "One of the most common ways to analyze spiking neuron data is to create a peri-stimulus or peri-event time histogram (PSTH/PETH). That is, for each event in a set, histogram all spikes in some period of time around that event.\n",
      "\n",
      "**Describe a program that will construct a PSTH.** \n",
      "Tell what inputs you need and what output you will produce. What steps are necessary? Once you list the steps, try to think through how each might be accomplished. You do not need to write working code. Just a description that another student at your level could understand.\n",
      "\n",
      "---"
     ]
    },
    {
     "cell_type": "heading",
     "level": 2,
     "metadata": {},
     "source": [
      "But how do I learn a programming language?"
     ]
    },
    {
     "cell_type": "heading",
     "level": 3,
     "metadata": {},
     "source": [
      "Read a book"
     ]
    },
    {
     "cell_type": "markdown",
     "metadata": {},
     "source": [
      "+ Pros: structured introduction, unified perspective\n",
      "+ Cons: takes a long time, may not cover what you need, not the same as practice"
     ]
    },
    {
     "cell_type": "heading",
     "level": 3,
     "metadata": {},
     "source": [
      "Study code from the lab"
     ]
    },
    {
     "cell_type": "markdown",
     "metadata": {},
     "source": [
      "+ Pros: specific to what you want to do, someone you can ask\n",
      "+ Cons: hard to get started, may teach bad habits"
     ]
    },
    {
     "cell_type": "heading",
     "level": 3,
     "metadata": {},
     "source": [
      "Some things it helps to know:"
     ]
    },
    {
     "cell_type": "markdown",
     "metadata": {},
     "source": [
      "+ terminology and philosophy:\n",
      "    * what's the language \"about\"\n",
      "    * hard to Google if you don't know what it's called\n",
      "+ data types:\n",
      "    * what kinds of data does the language natively support?\n",
      "    * what are the \"go-to\" data types (lists, matrices, data frames, etc.)\n",
      "+ flow control:\n",
      "    * how do you branch (`if`/`then`/`else`)?\n",
      "    * how do you repeat until a test is passed (`do`/`while`)?\n",
      "    * how do you iterate over a collection (`for`/`in`)?\n",
      "    * how do you match a with a list of options (`switch`, `case`)?\n",
      "+ functions:\n",
      "    * how do I define a reusable block of code?\n",
      "    * how is information passed to and returned from the block?\n",
      "    * is a function just another variable type (i.e., a \"first-class\" function)?\n",
      "    * can I group functions into modules?\n",
      "+ objects:\n",
      "    * what is the object model?\n",
      "    * what sorts of relationships can exist between objects?\n",
      "    * what controls which operations can be performed on which objects?\n",
      "+ i/o:\n",
      "    * how do I open and close a file?\n",
      "    * how do I write to a file?\n",
      "    * how do I get information from users and print to the screen?\n",
      "+ sugar:\n",
      "    * special syntax used to perform common operations in programming languages is called \"syntactic sugar\" (not 100% technically true, but close enough)\n",
      "    * think \"to be\" in natural language -- ubiquitous, but always different\n",
      "    * often implemented with punctuation marks, can be cryptic to new users, hard to Google\n",
      "    * need to learn enough of this to read basic code\n",
      "+ idioms\n",
      "    * conventional ways of coding common tasks\n",
      "    * may be faster, simpler, or just easier to read in your language of choice\n",
      "    * example: in idiomatic Matlab, one should rarely use `for` loops"
     ]
    },
    {
     "cell_type": "heading",
     "level": 3,
     "metadata": {},
     "source": [
      "Google your way to greatness"
     ]
    },
    {
     "cell_type": "markdown",
     "metadata": {},
     "source": [
      "If you have internet access and a rough (just pseudocode) idea of what you want to do, it's almost always easiest to simply search online for what you want to do. [StackOverflow](http://www.stackoverflow.com) and its family of related sites are the best sources of high-quality programming advice. I do not recommend [Matlab Central](http://www.mathworks.com/matlabcentral/fileexchange/), since the code is unchecked and often of dubious quality.\n",
      "\n",
      "At any rate, once you find a magic recipe to do what you want online, it's up to you to do the further research needed in the help system or documentation to understand why it works. Still, this method has the advantage of being both fast and targeted to what you want to achieve."
     ]
    },
    {
     "cell_type": "markdown",
     "metadata": {},
     "source": [
      "---"
     ]
    },
    {
     "cell_type": "heading",
     "level": 2,
     "metadata": {},
     "source": [
      "Exercise"
     ]
    },
    {
     "cell_type": "markdown",
     "metadata": {},
     "source": [
      "Find the answers to the following online:\n",
      "\n",
      "1. How to perform a t-test in Matlab\n",
      "2. How to read a spreadsheet into Matlab\n",
      "    - What are some different ways to do this?\n",
      "    - What systems does this work on?\n",
      "3. How to plot an image in Matlab\n",
      "    - What form do the data have to be in?\n",
      "    - What are some different functions that can be used to do this?\n",
      "    \n",
      "Naturally, the more background you have, the easier it is to understand the help you find online. The point here is that the answers to questions like these are usually easy to find."
     ]
    }
   ],
   "metadata": {}
  }
 ]
}