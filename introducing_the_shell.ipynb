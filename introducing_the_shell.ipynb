{
 "metadata": {
  "name": "",
  "signature": "sha256:e4bdda3e8fac61fb13d6039155bf878fbff8176a23784a2bb9ea2eb0d904f92e"
 },
 "nbformat": 3,
 "nbformat_minor": 0,
 "worksheets": [
  {
   "cells": [
    {
     "cell_type": "heading",
     "level": 1,
     "metadata": {},
     "source": [
      "Introducing the shell"
     ]
    },
    {
     "cell_type": "markdown",
     "metadata": {},
     "source": [
      "The shell, also called the terminal or command line, is a program that allows you to interact with your computer's operating system by entering commands. Some of these commands are themselves programs; others are tie more closely to the operating system. Programmers tend to prefer working at the command line for a few reasons:\n",
      "\n",
      "- **Power**: the shell allows knowledgeable users to get a lot done with a very few keystrokes\n",
      "- **Composability**: as we will see, shell commands can be chained together to create flexible, powerful functionality\n",
      "- **Programmability**: the shell gives users the power to write their own shell commands, allowing them to automate their most common tasks."
     ]
    },
    {
     "cell_type": "heading",
     "level": 2,
     "metadata": {},
     "source": [
      "Getting started"
     ]
    },
    {
     "cell_type": "markdown",
     "metadata": {},
     "source": [
      "Because the shell is just a program, it can come in many flavors. The most common shell on modern systems is bash, the Bourne Again Shell, which is descended from the Bourne shell. It is the default on OS X and many distributions of Linux, and is the one we'll use. Other shells share some features, but differ in important respects.\n",
      "\n",
      "For Mac users, the shell is accesses through the Terminal program. Linux users are usually familiar already. Windows has its [own shell](http://en.wikipedia.org/wiki/Windows_PowerShell), but to make things compatible with other utilities (and to give windows users experience with more widespread conventions), we suggest installing bash via [this installer](http://msysgit.github.io/). "
     ]
    },
    {
     "cell_type": "heading",
     "level": 2,
     "metadata": {},
     "source": [
      "Looking around"
     ]
    },
    {
     "cell_type": "markdown",
     "metadata": {},
     "source": [
      "After opening the shell, you will see a command prompt, which for bash, looks like this:"
     ]
    },
    {
     "cell_type": "markdown",
     "metadata": {},
     "source": [
      "```bash\n",
      "$\n",
      "```"
     ]
    },
    {
     "cell_type": "markdown",
     "metadata": {},
     "source": [
      "Well, your prompt probably has a number of things in front of it, including perhaps the name of your machine, your username, the directory, name, etc. From now on, we will omit the `$` when showing commands.\n",
      "\n",
      "First thing's first: let's have a look around. Try the following commands:"
     ]
    },
    {
     "cell_type": "markdown",
     "metadata": {},
     "source": [
      "```bash\n",
      "whoami\n",
      "pwd\n",
      "ls\n",
      "```"
     ]
    },
    {
     "cell_type": "markdown",
     "metadata": {},
     "source": [
      "Type each in turn and hit enter. \n",
      "\n",
      "Explanation:\n",
      "- `whoami` runs a program that gets the name of the current user.\n",
      "- `pwd` stands for present working directory &mdash; where you currently are in the file system\n",
      "- `ls` stands for list. We'll use this all the time to list the contents of directories."
     ]
    },
    {
     "cell_type": "markdown",
     "metadata": {},
     "source": [
      "You may notices that the output from `ls` colors certain names, depending on your settings. We can achieve the same sort of thing by typing\n",
      "\n",
      "```bash\n",
      "ls -F\n",
      "```\n",
      "\n",
      "which adds trailing slashes to directories. Here, we're using `-F` as a \"flag\" or \"switch\" or \"argument\" that gives an option to the `ls` command. In fact, there are lots of these flags. Try\n",
      "\n",
      "```bash\n",
      "ls -a\n",
      "ls -l\n",
      "```\n",
      "\n",
      "what differences do you see?\n",
      "\n",
      "In fact, in some cases, we want to combine flags. I will often use\n",
      "\n",
      "```bash\n",
      "ls -al\n",
      "```"
     ]
    },
    {
     "cell_type": "markdown",
     "metadata": {},
     "source": [
      "You may have noticed that when we used the `-a` flag (`a` is for \"all\"), there were a couple of entries that didn't appear when we used the `ls` command alone. In fact, any filename that begins with a `.` is considered a hidden file, and will not show up in your graphical file browser without special settings.\n",
      "\n",
      "But there are two very special hidden files that appear in every directory &mdash; `.` and `..`. The single period, `.`, represents the current directory, while the double dot, `..`, represents the directory containing the current one (its \"parent\").\n",
      "\n",
      "Why would this be useful? Well, many commands like `ls` take as additional arguments a \"target.\" In the case of `ls`, we're asking it to list the contents of a target, meaning that we can get a listing of _any_ directory, not just the current one.\n",
      "\n",
      "That is\n",
      "\n",
      "```\n",
      "ls .\n",
      "```\n",
      "\n",
      "gives the contents of the current directory, while\n",
      "\n",
      "```\n",
      "ls ..\n",
      "```\n",
      "\n",
      "Lists the contents of the directory above. Notice that we didn't have to move around at all. In fact, if our account has permission, we can get the contents of the very top-level directory, `/`, by simply asking:\n",
      "\n",
      "```\n",
      "ls /\n",
      "```"
     ]
    },
    {
     "cell_type": "code",
     "collapsed": false,
     "input": [],
     "language": "python",
     "metadata": {},
     "outputs": []
    }
   ],
   "metadata": {}
  }
 ]
}