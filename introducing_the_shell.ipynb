{
 "metadata": {
  "name": "",
  "signature": "sha256:a14c68fb630fa1e15182bf2a55363704ee9ced37a00a7a1087dec8f73299292f"
 },
 "nbformat": 3,
 "nbformat_minor": 0,
 "worksheets": [
  {
   "cells": [
    {
     "cell_type": "heading",
     "level": 1,
     "metadata": {},
     "source": [
      "Introducing the shell"
     ]
    },
    {
     "cell_type": "markdown",
     "metadata": {},
     "source": [
      "The shell, also called the terminal or command line, is a program that allows you to interact with your computer's operating system by entering commands. Some of these commands are themselves programs; others are tie more closely to the operating system. Programmers tend to prefer working at the command line for a few reasons:\n",
      "\n",
      "- **Power**: the shell allows knowledgeable users to get a lot done with a very few keystrokes\n",
      "- **Composability**: as we will see, shell commands can be chained together to create flexible, powerful functionality\n",
      "- **Programmability**: the shell gives users the power to write their own shell commands, allowing them to automate their most common tasks."
     ]
    },
    {
     "cell_type": "heading",
     "level": 2,
     "metadata": {},
     "source": [
      "Getting started"
     ]
    },
    {
     "cell_type": "markdown",
     "metadata": {},
     "source": [
      "Because the shell is just a program, it can come in many flavors. The most common shell on modern systems is bash, the Bourne Again Shell, which is descended from the Bourne shell. It is the default on OS X and many distributions of Linux, and is the one we'll use. Other shells share some features, but differ in important respects.\n",
      "\n",
      "For Mac users, the shell is accesses through the Terminal program. Linux users are usually familiar already. Windows has its [own shell](http://en.wikipedia.org/wiki/Windows_PowerShell), but to make things compatible with other utilities (and to give windows users experience with more widespread conventions), we suggest installing bash via [this installer](http://msysgit.github.io/). "
     ]
    },
    {
     "cell_type": "heading",
     "level": 2,
     "metadata": {},
     "source": [
      "Looking around"
     ]
    },
    {
     "cell_type": "markdown",
     "metadata": {},
     "source": [
      "After opening the shell, you will see a command prompt, which for bash, looks like this:"
     ]
    },
    {
     "cell_type": "markdown",
     "metadata": {},
     "source": [
      "```bash\n",
      "$\n",
      "```"
     ]
    },
    {
     "cell_type": "markdown",
     "metadata": {},
     "source": [
      "Well, your prompt probably has a number of things in front of it, including perhaps the name of your machine, your username, the directory, name, etc. From now on, we will omit the `$` when showing commands.\n",
      "\n",
      "First thing's first: let's have a look around. Try the following commands:"
     ]
    },
    {
     "cell_type": "markdown",
     "metadata": {},
     "source": [
      "```bash\n",
      "whoami\n",
      "pwd\n",
      "ls\n",
      "```"
     ]
    },
    {
     "cell_type": "markdown",
     "metadata": {},
     "source": [
      "Type each in turn and hit enter. \n",
      "\n",
      "Explanation:\n",
      "- `whoami` runs a program that gets the name of the current user.\n",
      "- `pwd` stands for present working directory &mdash; where you currently are in the file system\n",
      "- `ls` stands for list. We'll use this all the time to list the contents of directories."
     ]
    },
    {
     "cell_type": "markdown",
     "metadata": {},
     "source": [
      "You may notices that the output from `ls` colors certain names, depending on your settings. We can achieve the same sort of thing by typing\n",
      "\n",
      "```bash\n",
      "ls -F\n",
      "```\n",
      "\n",
      "which adds trailing slashes to directories. Here, we're using `-F` as a \"flag\" or \"switch\" or \"argument\" that gives an option to the `ls` command. In fact, there are lots of these flags. Try\n",
      "\n",
      "```bash\n",
      "ls -a\n",
      "ls -l\n",
      "```\n",
      "\n",
      "what differences do you see?\n",
      "\n",
      "In fact, in some cases, we want to combine flags. I will often use\n",
      "\n",
      "```bash\n",
      "ls -al\n",
      "```"
     ]
    },
    {
     "cell_type": "markdown",
     "metadata": {},
     "source": [
      "You may have noticed that when we used the `-a` flag (`a` is for \"all\"), there were a couple of entries that didn't appear when we used the `ls` command alone. In fact, any filename that begins with a `.` is considered a hidden file, and will not show up in your graphical file browser without special settings.\n",
      "\n",
      "But there are two very special hidden files that appear in every directory &mdash; `.` and `..`. The single period, `.`, represents the current directory, while the double dot, `..`, represents the directory containing the current one (its \"parent\").\n",
      "\n",
      "Why would this be useful? Well, many commands like `ls` take as additional arguments a \"target.\" In the case of `ls`, we're asking it to list the contents of a target, meaning that we can get a listing of _any_ directory, not just the current one.\n",
      "\n",
      "That is\n",
      "\n",
      "```\n",
      "ls .\n",
      "```\n",
      "\n",
      "gives the contents of the current directory, while\n",
      "\n",
      "```\n",
      "ls ..\n",
      "```\n",
      "\n",
      "Lists the contents of the directory above. Notice that we didn't have to move around at all. In fact, if our account has permission, we can get the contents of the very top-level directory, `/`, by simply asking:\n",
      "\n",
      "```\n",
      "ls /\n",
      "```"
     ]
    },
    {
     "cell_type": "heading",
     "level": 2,
     "metadata": {},
     "source": [
      "Organization of the file system"
     ]
    },
    {
     "cell_type": "markdown",
     "metadata": {},
     "source": [
      "Before we go farther, a few words about how files are organized.\n",
      "\n",
      "Most of you are familiar with the files and folders notion of organizing directories. Folders can contain files and more folders. The top-level folder, called the root directory or `/` on Unix systems, contains all other files (including those representing hard drives, DVDs, and ports).\n",
      "\n",
      "So, for instance, on my computer, the above command gives results like\n",
      "\n",
      "```\n",
      "Applications\n",
      "Library\n",
      "System\n",
      "...\n",
      "bin\n",
      "cores\n",
      "dev\n",
      "etc\n",
      "...\n",
      "```\n",
      "\n",
      "but if I type\n",
      "\n",
      "```\n",
      "ls bin\n",
      "```\n",
      "\n",
      "I get\n",
      "\n",
      "```\n",
      "ls: bin: No such file or directory\n",
      "```\n",
      "\n",
      "What gives? The answer is that, when you give `ls` a target with no other information, it looks only in the local directory. But as we've seen, `bin` is inside `/`. So in order to get its contents, we need to give `ls` the full or _absolute path_ to the directory:\n",
      "\n",
      "```\n",
      "ls /Applications\n",
      "```\n",
      "\n",
      "whereas if we want a listing of a directory inside our current one, all we have to say is\n",
      "\n",
      "```\n",
      "ls Desktop\n",
      "```\n",
      "\n",
      "In this second case, we are exploiting the rule that if the target doesn't start with a `/`, `ls` will start for the target _relative to the current location_ &mdash; that is, it will assume we are giving a _relative path_."
     ]
    },
    {
     "cell_type": "heading",
     "level": 2,
     "metadata": {},
     "source": [
      "Moving around"
     ]
    },
    {
     "cell_type": "markdown",
     "metadata": {},
     "source": [
      "When you typed `pwd`, the answer returned by the shell was your current location in the file system. If you just logged in, this is your _home directory_. Think of it as your starting point on the file system. On a multi-user system, everything inside your home directory belongs to you, while everything above your home directory is either owned by other users or the system administrator.\n",
      "\n",
      "But on some systems, the answer returned when you run `pwd` in the home directory is quite long. It can be a pain to type it over and over again. That's why the shell provides a nickname for your home directory: `~`. Thus\n",
      "\n",
      "```\n",
      "ls ~\n",
      "```\n",
      "\n",
      "is the contents of your home directory."
     ]
    },
    {
     "cell_type": "markdown",
     "metadata": {},
     "source": [
      "Now as we've seen, commands like `ls` (and commands we'll learn like copy, `cp`, and move, `mv`) will take an absolute path to any file or directory, so as long as we know where our target is located, it doesn't matter what directory we're in. \n",
      "\n",
      "So why change directories? To save typing!\n",
      "\n",
      "To move from one directory to another, we use the `cd` (change directory) command:\n",
      "\n",
      "```\n",
      "cd Desktop\n",
      "ls\n",
      "```\n",
      "\n",
      "Note that, once we move to `Desktop`, running `ls` gives us the contents of the _current_ directory. Note also that since `Desktop` was a subdirectory of our home directory that we were able to use a shorter, relative pathname."
     ]
    },
    {
     "cell_type": "markdown",
     "metadata": {},
     "source": [
      "But what about getting back?\n",
      "\n",
      "Remember those special directories? Try this:\n",
      "\n",
      "```\n",
      "pwd\n",
      "cd ..\n",
      "```\n",
      "\n",
      "So we can use `..` to move back up the directory tree!\n",
      "\n",
      "But this isn't the only way. Since `~` represents our home directory, we could also have done\n",
      "\n",
      "```\n",
      "cd ~\n",
      "```\n",
      "\n",
      "to go back, or even\n",
      "\n",
      "```\n",
      "cd\n",
      "```\n",
      "\n",
      "since `cd`, without arguments assumes you want to go home.\n",
      "\n",
      "Finally, there's one other trick that comes in handy with moving around directories: Just as `~` is a handy shortcut to your home directory, `cd -` is a shortcut for \"go back to the last place you were.\" Thus\n",
      "\n",
      "```\n",
      "pwd\n",
      "cd Desktop\n",
      "pwd\n",
      "cd ../Documents\n",
      "pwd\n",
      "cd -\n",
      "pwd\n",
      "```"
     ]
    }
   ],
   "metadata": {}
  }
 ]
}